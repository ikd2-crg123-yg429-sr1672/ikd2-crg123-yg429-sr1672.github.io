{
 "cells": [
  {
   "cell_type": "code",
   "execution_count": 1,
   "metadata": {},
   "outputs": [],
   "source": [
    "import pandas as pd\n",
    "import numpy as np"
   ]
  },
  {
   "cell_type": "code",
   "execution_count": 2,
   "metadata": {},
   "outputs": [],
   "source": [
    "df = pd.read_csv(\"data/Quick Statistics Results CBHSQ Data SAMHSA-2.csv\")\n",
    "\n",
    "df_total = df.iloc[0:2, :].set_index(df.columns[0])\n",
    "df_gender = df.iloc[3:6, :].set_index(df.columns[0])\n",
    "df_age = df.iloc[8:22, :].set_index(df.columns[0])\n",
    "df_race = df.iloc[23:30, :].set_index(df.columns[0])\n",
    "df_ethnicity = df.iloc[31:35, :].set_index(df.columns[0])"
   ]
  },
  {
   "cell_type": "code",
   "execution_count": 3,
   "metadata": {},
   "outputs": [],
   "source": [
    "import os \n",
    "\n",
    "for file in os.listdir(\"data/\"):\n",
    "    file_path = os.path.join(\"data/\", file)\n",
    "    df = pd.read_csv(file_path)\n",
    "    state = df.columns[0].split(\":\")[1].strip()\n",
    "    df = df[df['All Substances'] != 'All Substances']\n",
    "    os.remove(file_path)\n",
    "    df.to_csv(\"data/\" + state + \".csv\")\n"
   ]
  }
 ],
 "metadata": {
  "kernelspec": {
   "display_name": "Python 3",
   "language": "python",
   "name": "python3"
  },
  "language_info": {
   "codemirror_mode": {
    "name": "ipython",
    "version": 3
   },
   "file_extension": ".py",
   "mimetype": "text/x-python",
   "name": "python",
   "nbconvert_exporter": "python",
   "pygments_lexer": "ipython3",
   "version": "3.11.6"
  }
 },
 "nbformat": 4,
 "nbformat_minor": 2
}
