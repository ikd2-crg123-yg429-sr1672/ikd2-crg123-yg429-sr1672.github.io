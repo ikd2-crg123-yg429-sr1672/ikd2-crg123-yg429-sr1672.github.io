{
 "cells": [
  {
   "cell_type": "code",
   "execution_count": 2,
   "metadata": {},
   "outputs": [
    {
     "data": {
      "application/vnd.plotly.v1+json": {
       "config": {
        "plotlyServerURL": "https://plot.ly"
       },
       "data": [
        {
         "alignmentgroup": "True",
         "hovertemplate": "Group=Unknown<br>Substance=%{x}<br>% of National Treatment Admissions=%{y}<extra></extra>",
         "legendgroup": "Unknown",
         "marker": {
          "color": "#636efa",
          "pattern": {
           "shape": ""
          }
         },
         "name": "Unknown",
         "offsetgroup": "Unknown",
         "orientation": "v",
         "showlegend": true,
         "textposition": "auto",
         "type": "bar",
         "x": [
          "All Substances",
          "All Substances",
          "All Substances",
          "All Substances",
          "Alcohol Only",
          "Alcohol Only",
          "Alcohol Only",
          "Alcohol Only",
          "Alcohol with secondary drug",
          "Alcohol with secondary drug",
          "Alcohol with secondary drug",
          "Alcohol with secondary drug",
          "Heroin",
          "Heroin",
          "Heroin",
          "Heroin",
          "Other opiates",
          "Other opiates",
          "Other opiates",
          "Other opiates",
          "Cocaine (smoked)",
          "Cocaine (smoked)",
          "Cocaine (smoked)",
          "Cocaine (smoked)",
          "Cocaine (other route)",
          "Cocaine (other route)",
          "Cocaine (other route)",
          "Cocaine (other route)",
          "Marijuana",
          "Marijuana",
          "Marijuana",
          "Marijuana",
          "Amphetamines",
          "Amphetamines",
          "Amphetamines",
          "Amphetamines",
          "Other stimulants",
          "Other stimulants",
          "Other stimulants",
          "Other stimulants",
          "Tranquilizers",
          "Tranquilizers",
          "Tranquilizers",
          "Tranquilizers",
          "Sedatives",
          "Sedatives",
          "Sedatives",
          "Sedatives",
          "Hallucinogens",
          "Hallucinogens",
          "Hallucinogens",
          "Hallucinogens",
          "PCP",
          "PCP",
          "PCP",
          "PCP",
          "Inhalants",
          "Inhalants",
          "Inhalants",
          "Inhalants",
          "Other/Unknown",
          "Other/Unknown",
          "Other/Unknown",
          "Other/Unknown"
         ],
         "xaxis": "x",
         "y": {
          "bdata": "mpmZmZmZuT8AAAAAAAAAAGZmZmZmZiBAAAAAAAAAIECamZmZmZm5PwAAAAAAAAAAAAAAAAAAFEAAAAAAAAAEQJqZmZmZmbk/AAAAAAAAAADNzMzMzMwSQGZmZmZmZgJAmpmZmZmZuT8AAAAAAAAAAGZmZmZmZhJAZmZmZmZmAkCamZmZmZm5PwAAAAAAAAAAAAAAAAAAGkAAAAAAAAAQQJqZmZmZmbk/AAAAAAAAAAAzMzMzMzMLQGZmZmZmZgJAmpmZmZmZuT8AAAAAAAAAAM3MzMzMzBJAzczMzMzMCECamZmZmZm5PwAAAAAAAAAAAAAAAAAAFkDNzMzMzMwMQJqZmZmZmck/AAAAAAAAAAAAAAAAAAAaQJqZmZmZmQFAmpmZmZmZuT8AAAAAAAAAAAAAAAAAABJAzczMzMzMDECamZmZmZm5PwAAAAAAAAAAZmZmZmZmCkAAAAAAAAAAQJqZmZmZmbk/AAAAAAAAAAAAAAAAAAAQQDMzMzMzM/s/mpmZmZmZuT8AAAAAAAAAAJqZmZmZmRlAZmZmZmZmFkAAAAAAAAAAAAAAAAAAAAAAMzMzMzMzEUDNzMzMzMwIQAAAAAAAAAAAAAAAAAAAAACamZmZmZkXQM3MzMzMzAxAmpmZmZmZuT+amZmZmZm5P83MzMzMzDVAMzMzMzMzQEA=",
          "dtype": "f8"
         },
         "yaxis": "y"
        },
        {
         "alignmentgroup": "True",
         "hovertemplate": "Group=White<br>Substance=%{x}<br>% of National Treatment Admissions=%{y}<extra></extra>",
         "legendgroup": "White",
         "marker": {
          "color": "#EF553B",
          "pattern": {
           "shape": ""
          }
         },
         "name": "White",
         "offsetgroup": "White",
         "orientation": "v",
         "showlegend": true,
         "textposition": "auto",
         "type": "bar",
         "x": [
          "All Substances",
          "Alcohol Only",
          "Alcohol with secondary drug",
          "Heroin",
          "Other opiates",
          "Cocaine (smoked)",
          "Cocaine (other route)",
          "Marijuana",
          "Amphetamines",
          "Other stimulants",
          "Tranquilizers",
          "Sedatives",
          "Hallucinogens",
          "PCP",
          "Inhalants",
          "Other/Unknown"
         ],
         "xaxis": "x",
         "y": {
          "bdata": "ZmZmZmYmT0CamZmZmRlRQDMzMzMzM01AZmZmZmaGUUDNzMzMzAxSQAAAAAAAQENAMzMzMzNzSEAzMzMzMzNIQAAAAAAAQFJAZmZmZmaGUkCamZmZmflTQJqZmZmZOVNAmpmZmZkZS0CamZmZmRkwQAAAAAAAYFJAzczMzMwMSkA=",
          "dtype": "f8"
         },
         "yaxis": "y"
        },
        {
         "alignmentgroup": "True",
         "hovertemplate": "Group=Black or African-American<br>Substance=%{x}<br>% of National Treatment Admissions=%{y}<extra></extra>",
         "legendgroup": "Black or African-American",
         "marker": {
          "color": "#00cc96",
          "pattern": {
           "shape": ""
          }
         },
         "name": "Black or African-American",
         "offsetgroup": "Black or African-American",
         "orientation": "v",
         "showlegend": true,
         "textposition": "auto",
         "type": "bar",
         "x": [
          "All Substances",
          "Alcohol Only",
          "Alcohol with secondary drug",
          "Heroin",
          "Other opiates",
          "Cocaine (smoked)",
          "Cocaine (other route)",
          "Marijuana",
          "Amphetamines",
          "Other stimulants",
          "Tranquilizers",
          "Sedatives",
          "Hallucinogens",
          "PCP",
          "Inhalants",
          "Other/Unknown"
         ],
         "xaxis": "x",
         "y": {
          "bdata": "mpmZmZkZMkAAAAAAAAAsQM3MzMzMTDlAmpmZmZmZKkBmZmZmZmYpQJqZmZmZmUlAmpmZmZlZQUDNzMzMzAxBQM3MzMzMzBxAMzMzMzMzKEBmZmZmZmYgQAAAAAAAAB5AzczMzMxMP0DNzMzMzOxQQJqZmZmZmRlAAAAAAAAAMEA=",
          "dtype": "f8"
         },
         "yaxis": "y"
        },
        {
         "alignmentgroup": "True",
         "hovertemplate": "Group=American Indian or Alaska Native<br>Substance=%{x}<br>% of National Treatment Admissions=%{y}<extra></extra>",
         "legendgroup": "American Indian or Alaska Native",
         "marker": {
          "color": "#ab63fa",
          "pattern": {
           "shape": ""
          }
         },
         "name": "American Indian or Alaska Native",
         "offsetgroup": "American Indian or Alaska Native",
         "orientation": "v",
         "showlegend": true,
         "textposition": "auto",
         "type": "bar",
         "x": [
          "All Substances",
          "Alcohol Only",
          "Alcohol with secondary drug",
          "Heroin",
          "Other opiates",
          "Cocaine (smoked)",
          "Cocaine (other route)",
          "Marijuana",
          "Amphetamines",
          "Other stimulants",
          "Tranquilizers",
          "Sedatives",
          "Hallucinogens",
          "PCP",
          "Inhalants",
          "Other/Unknown"
         ],
         "xaxis": "x",
         "y": {
          "bdata": "AAAAAAAADEAzMzMzMzMRQDMzMzMzMwdAAAAAAAAA+D+amZmZmZn5P2ZmZmZmZuY/mpmZmZmZ8T9mZmZmZmb+PwAAAAAAAAxAzczMzMzM/D9mZmZmZmbmP5qZmZmZmfE/AAAAAAAA+D9mZmZmZmbmP83MzMzMzAhAmpmZmZmZHUA=",
          "dtype": "f8"
         },
         "yaxis": "y"
        },
        {
         "alignmentgroup": "True",
         "hovertemplate": "Group=Asian or Native Hawaiian or Other Pacific Islander<br>Substance=%{x}<br>% of National Treatment Admissions=%{y}<extra></extra>",
         "legendgroup": "Asian or Native Hawaiian or Other Pacific Islander",
         "marker": {
          "color": "#FFA15A",
          "pattern": {
           "shape": ""
          }
         },
         "name": "Asian or Native Hawaiian or Other Pacific Islander",
         "offsetgroup": "Asian or Native Hawaiian or Other Pacific Islander",
         "orientation": "v",
         "showlegend": true,
         "textposition": "auto",
         "type": "bar",
         "x": [
          "All Substances",
          "Alcohol Only",
          "Alcohol with secondary drug",
          "Heroin",
          "Other opiates",
          "Cocaine (smoked)",
          "Cocaine (other route)",
          "Marijuana",
          "Amphetamines",
          "Other stimulants",
          "Tranquilizers",
          "Sedatives",
          "Hallucinogens",
          "PCP",
          "Inhalants",
          "Other/Unknown"
         ],
         "xaxis": "x",
         "y": {
          "bdata": "AAAAAAAA8D8zMzMzMzPzP5qZmZmZmek/mpmZmZmZ6T8AAAAAAADwPzMzMzMzM+M/mpmZmZmZ8T+amZmZmZnxP5qZmZmZmfk/zczMzMzM7D+amZmZmZnxPwAAAAAAAPA/AAAAAAAA+D9mZmZmZmbmP5qZmZmZmfE/AAAAAAAA8D8=",
          "dtype": "f8"
         },
         "yaxis": "y"
        },
        {
         "alignmentgroup": "True",
         "hovertemplate": "Group=Other<br>Substance=%{x}<br>% of National Treatment Admissions=%{y}<extra></extra>",
         "legendgroup": "Other",
         "marker": {
          "color": "#19d3f3",
          "pattern": {
           "shape": ""
          }
         },
         "name": "Other",
         "offsetgroup": "Other",
         "orientation": "v",
         "showlegend": true,
         "textposition": "auto",
         "type": "bar",
         "x": [
          "All Substances",
          "Alcohol Only",
          "Alcohol with secondary drug",
          "Heroin",
          "Other opiates",
          "Cocaine (smoked)",
          "Cocaine (other route)",
          "Marijuana",
          "Amphetamines",
          "Other stimulants",
          "Tranquilizers",
          "Sedatives",
          "Hallucinogens",
          "PCP",
          "Inhalants",
          "Other/Unknown"
         ],
         "xaxis": "x",
         "y": {
          "bdata": "mpmZmZmZG0BmZmZmZmYcQJqZmZmZmR9AZmZmZmZmI0AAAAAAAAAYQGZmZmZmZhZAAAAAAAAAI0AAAAAAAAAiQDMzMzMzMyBAAAAAAAAAGkDNzMzMzMwaQDMzMzMzMyNAzczMzMzMFEDNzMzMzMwkQAAAAAAAACRAmpmZmZmZ+T8=",
          "dtype": "f8"
         },
         "yaxis": "y"
        },
        {
         "alignmentgroup": "True",
         "hovertemplate": "Group=Hispanic or Latino<br>Substance=%{x}<br>% of National Treatment Admissions=%{y}<extra></extra>",
         "legendgroup": "Hispanic or Latino",
         "marker": {
          "color": "#FF6692",
          "pattern": {
           "shape": ""
          }
         },
         "name": "Hispanic or Latino",
         "offsetgroup": "Hispanic or Latino",
         "orientation": "v",
         "showlegend": true,
         "textposition": "auto",
         "type": "bar",
         "x": [
          "All Substances",
          "Alcohol Only",
          "Alcohol with secondary drug",
          "Heroin",
          "Other opiates",
          "Cocaine (smoked)",
          "Cocaine (other route)",
          "Marijuana",
          "Amphetamines",
          "Other stimulants",
          "Tranquilizers",
          "Sedatives",
          "Hallucinogens",
          "PCP",
          "Inhalants",
          "Other/Unknown"
         ],
         "xaxis": "x",
         "y": {
          "bdata": "mpmZmZmZKkAzMzMzMzMtQDMzMzMzMy5AZmZmZmbmMEBmZmZmZmYnQGZmZmZmZiJAAAAAAACAMUCamZmZmRkxQJqZmZmZGTFAmpmZmZmZIEAAAAAAAAAoQJqZmZmZmS1AZmZmZmZmKEAAAAAAAIAxQGZmZmZm5jBAzczMzMzMDEA=",
          "dtype": "f8"
         },
         "yaxis": "y"
        }
       ],
       "layout": {
        "barmode": "group",
        "legend": {
         "bgcolor": "rgba(255,255,255,0)",
         "bordercolor": "rgba(0,0,0,0)",
         "font": {
          "size": 10
         },
         "title": {
          "text": "Group"
         },
         "tracegroupgap": 0,
         "x": 1,
         "xanchor": "left",
         "y": 1,
         "yanchor": "top"
        },
        "plot_bgcolor": "#f9f9f9",
        "template": {
         "data": {
          "bar": [
           {
            "error_x": {
             "color": "#2a3f5f"
            },
            "error_y": {
             "color": "#2a3f5f"
            },
            "marker": {
             "line": {
              "color": "#E5ECF6",
              "width": 0.5
             },
             "pattern": {
              "fillmode": "overlay",
              "size": 10,
              "solidity": 0.2
             }
            },
            "type": "bar"
           }
          ],
          "barpolar": [
           {
            "marker": {
             "line": {
              "color": "#E5ECF6",
              "width": 0.5
             },
             "pattern": {
              "fillmode": "overlay",
              "size": 10,
              "solidity": 0.2
             }
            },
            "type": "barpolar"
           }
          ],
          "carpet": [
           {
            "aaxis": {
             "endlinecolor": "#2a3f5f",
             "gridcolor": "white",
             "linecolor": "white",
             "minorgridcolor": "white",
             "startlinecolor": "#2a3f5f"
            },
            "baxis": {
             "endlinecolor": "#2a3f5f",
             "gridcolor": "white",
             "linecolor": "white",
             "minorgridcolor": "white",
             "startlinecolor": "#2a3f5f"
            },
            "type": "carpet"
           }
          ],
          "choropleth": [
           {
            "colorbar": {
             "outlinewidth": 0,
             "ticks": ""
            },
            "type": "choropleth"
           }
          ],
          "contour": [
           {
            "colorbar": {
             "outlinewidth": 0,
             "ticks": ""
            },
            "colorscale": [
             [
              0,
              "#0d0887"
             ],
             [
              0.1111111111111111,
              "#46039f"
             ],
             [
              0.2222222222222222,
              "#7201a8"
             ],
             [
              0.3333333333333333,
              "#9c179e"
             ],
             [
              0.4444444444444444,
              "#bd3786"
             ],
             [
              0.5555555555555556,
              "#d8576b"
             ],
             [
              0.6666666666666666,
              "#ed7953"
             ],
             [
              0.7777777777777778,
              "#fb9f3a"
             ],
             [
              0.8888888888888888,
              "#fdca26"
             ],
             [
              1,
              "#f0f921"
             ]
            ],
            "type": "contour"
           }
          ],
          "contourcarpet": [
           {
            "colorbar": {
             "outlinewidth": 0,
             "ticks": ""
            },
            "type": "contourcarpet"
           }
          ],
          "heatmap": [
           {
            "colorbar": {
             "outlinewidth": 0,
             "ticks": ""
            },
            "colorscale": [
             [
              0,
              "#0d0887"
             ],
             [
              0.1111111111111111,
              "#46039f"
             ],
             [
              0.2222222222222222,
              "#7201a8"
             ],
             [
              0.3333333333333333,
              "#9c179e"
             ],
             [
              0.4444444444444444,
              "#bd3786"
             ],
             [
              0.5555555555555556,
              "#d8576b"
             ],
             [
              0.6666666666666666,
              "#ed7953"
             ],
             [
              0.7777777777777778,
              "#fb9f3a"
             ],
             [
              0.8888888888888888,
              "#fdca26"
             ],
             [
              1,
              "#f0f921"
             ]
            ],
            "type": "heatmap"
           }
          ],
          "histogram": [
           {
            "marker": {
             "pattern": {
              "fillmode": "overlay",
              "size": 10,
              "solidity": 0.2
             }
            },
            "type": "histogram"
           }
          ],
          "histogram2d": [
           {
            "colorbar": {
             "outlinewidth": 0,
             "ticks": ""
            },
            "colorscale": [
             [
              0,
              "#0d0887"
             ],
             [
              0.1111111111111111,
              "#46039f"
             ],
             [
              0.2222222222222222,
              "#7201a8"
             ],
             [
              0.3333333333333333,
              "#9c179e"
             ],
             [
              0.4444444444444444,
              "#bd3786"
             ],
             [
              0.5555555555555556,
              "#d8576b"
             ],
             [
              0.6666666666666666,
              "#ed7953"
             ],
             [
              0.7777777777777778,
              "#fb9f3a"
             ],
             [
              0.8888888888888888,
              "#fdca26"
             ],
             [
              1,
              "#f0f921"
             ]
            ],
            "type": "histogram2d"
           }
          ],
          "histogram2dcontour": [
           {
            "colorbar": {
             "outlinewidth": 0,
             "ticks": ""
            },
            "colorscale": [
             [
              0,
              "#0d0887"
             ],
             [
              0.1111111111111111,
              "#46039f"
             ],
             [
              0.2222222222222222,
              "#7201a8"
             ],
             [
              0.3333333333333333,
              "#9c179e"
             ],
             [
              0.4444444444444444,
              "#bd3786"
             ],
             [
              0.5555555555555556,
              "#d8576b"
             ],
             [
              0.6666666666666666,
              "#ed7953"
             ],
             [
              0.7777777777777778,
              "#fb9f3a"
             ],
             [
              0.8888888888888888,
              "#fdca26"
             ],
             [
              1,
              "#f0f921"
             ]
            ],
            "type": "histogram2dcontour"
           }
          ],
          "mesh3d": [
           {
            "colorbar": {
             "outlinewidth": 0,
             "ticks": ""
            },
            "type": "mesh3d"
           }
          ],
          "parcoords": [
           {
            "line": {
             "colorbar": {
              "outlinewidth": 0,
              "ticks": ""
             }
            },
            "type": "parcoords"
           }
          ],
          "pie": [
           {
            "automargin": true,
            "type": "pie"
           }
          ],
          "scatter": [
           {
            "fillpattern": {
             "fillmode": "overlay",
             "size": 10,
             "solidity": 0.2
            },
            "type": "scatter"
           }
          ],
          "scatter3d": [
           {
            "line": {
             "colorbar": {
              "outlinewidth": 0,
              "ticks": ""
             }
            },
            "marker": {
             "colorbar": {
              "outlinewidth": 0,
              "ticks": ""
             }
            },
            "type": "scatter3d"
           }
          ],
          "scattercarpet": [
           {
            "marker": {
             "colorbar": {
              "outlinewidth": 0,
              "ticks": ""
             }
            },
            "type": "scattercarpet"
           }
          ],
          "scattergeo": [
           {
            "marker": {
             "colorbar": {
              "outlinewidth": 0,
              "ticks": ""
             }
            },
            "type": "scattergeo"
           }
          ],
          "scattergl": [
           {
            "marker": {
             "colorbar": {
              "outlinewidth": 0,
              "ticks": ""
             }
            },
            "type": "scattergl"
           }
          ],
          "scattermap": [
           {
            "marker": {
             "colorbar": {
              "outlinewidth": 0,
              "ticks": ""
             }
            },
            "type": "scattermap"
           }
          ],
          "scattermapbox": [
           {
            "marker": {
             "colorbar": {
              "outlinewidth": 0,
              "ticks": ""
             }
            },
            "type": "scattermapbox"
           }
          ],
          "scatterpolar": [
           {
            "marker": {
             "colorbar": {
              "outlinewidth": 0,
              "ticks": ""
             }
            },
            "type": "scatterpolar"
           }
          ],
          "scatterpolargl": [
           {
            "marker": {
             "colorbar": {
              "outlinewidth": 0,
              "ticks": ""
             }
            },
            "type": "scatterpolargl"
           }
          ],
          "scatterternary": [
           {
            "marker": {
             "colorbar": {
              "outlinewidth": 0,
              "ticks": ""
             }
            },
            "type": "scatterternary"
           }
          ],
          "surface": [
           {
            "colorbar": {
             "outlinewidth": 0,
             "ticks": ""
            },
            "colorscale": [
             [
              0,
              "#0d0887"
             ],
             [
              0.1111111111111111,
              "#46039f"
             ],
             [
              0.2222222222222222,
              "#7201a8"
             ],
             [
              0.3333333333333333,
              "#9c179e"
             ],
             [
              0.4444444444444444,
              "#bd3786"
             ],
             [
              0.5555555555555556,
              "#d8576b"
             ],
             [
              0.6666666666666666,
              "#ed7953"
             ],
             [
              0.7777777777777778,
              "#fb9f3a"
             ],
             [
              0.8888888888888888,
              "#fdca26"
             ],
             [
              1,
              "#f0f921"
             ]
            ],
            "type": "surface"
           }
          ],
          "table": [
           {
            "cells": {
             "fill": {
              "color": "#EBF0F8"
             },
             "line": {
              "color": "white"
             }
            },
            "header": {
             "fill": {
              "color": "#C8D4E3"
             },
             "line": {
              "color": "white"
             }
            },
            "type": "table"
           }
          ]
         },
         "layout": {
          "annotationdefaults": {
           "arrowcolor": "#2a3f5f",
           "arrowhead": 0,
           "arrowwidth": 1
          },
          "autotypenumbers": "strict",
          "coloraxis": {
           "colorbar": {
            "outlinewidth": 0,
            "ticks": ""
           }
          },
          "colorscale": {
           "diverging": [
            [
             0,
             "#8e0152"
            ],
            [
             0.1,
             "#c51b7d"
            ],
            [
             0.2,
             "#de77ae"
            ],
            [
             0.3,
             "#f1b6da"
            ],
            [
             0.4,
             "#fde0ef"
            ],
            [
             0.5,
             "#f7f7f7"
            ],
            [
             0.6,
             "#e6f5d0"
            ],
            [
             0.7,
             "#b8e186"
            ],
            [
             0.8,
             "#7fbc41"
            ],
            [
             0.9,
             "#4d9221"
            ],
            [
             1,
             "#276419"
            ]
           ],
           "sequential": [
            [
             0,
             "#0d0887"
            ],
            [
             0.1111111111111111,
             "#46039f"
            ],
            [
             0.2222222222222222,
             "#7201a8"
            ],
            [
             0.3333333333333333,
             "#9c179e"
            ],
            [
             0.4444444444444444,
             "#bd3786"
            ],
            [
             0.5555555555555556,
             "#d8576b"
            ],
            [
             0.6666666666666666,
             "#ed7953"
            ],
            [
             0.7777777777777778,
             "#fb9f3a"
            ],
            [
             0.8888888888888888,
             "#fdca26"
            ],
            [
             1,
             "#f0f921"
            ]
           ],
           "sequentialminus": [
            [
             0,
             "#0d0887"
            ],
            [
             0.1111111111111111,
             "#46039f"
            ],
            [
             0.2222222222222222,
             "#7201a8"
            ],
            [
             0.3333333333333333,
             "#9c179e"
            ],
            [
             0.4444444444444444,
             "#bd3786"
            ],
            [
             0.5555555555555556,
             "#d8576b"
            ],
            [
             0.6666666666666666,
             "#ed7953"
            ],
            [
             0.7777777777777778,
             "#fb9f3a"
            ],
            [
             0.8888888888888888,
             "#fdca26"
            ],
            [
             1,
             "#f0f921"
            ]
           ]
          },
          "colorway": [
           "#636efa",
           "#EF553B",
           "#00cc96",
           "#ab63fa",
           "#FFA15A",
           "#19d3f3",
           "#FF6692",
           "#B6E880",
           "#FF97FF",
           "#FECB52"
          ],
          "font": {
           "color": "#2a3f5f"
          },
          "geo": {
           "bgcolor": "white",
           "lakecolor": "white",
           "landcolor": "#E5ECF6",
           "showlakes": true,
           "showland": true,
           "subunitcolor": "white"
          },
          "hoverlabel": {
           "align": "left"
          },
          "hovermode": "closest",
          "mapbox": {
           "style": "light"
          },
          "paper_bgcolor": "white",
          "plot_bgcolor": "#E5ECF6",
          "polar": {
           "angularaxis": {
            "gridcolor": "white",
            "linecolor": "white",
            "ticks": ""
           },
           "bgcolor": "#E5ECF6",
           "radialaxis": {
            "gridcolor": "white",
            "linecolor": "white",
            "ticks": ""
           }
          },
          "scene": {
           "xaxis": {
            "backgroundcolor": "#E5ECF6",
            "gridcolor": "white",
            "gridwidth": 2,
            "linecolor": "white",
            "showbackground": true,
            "ticks": "",
            "zerolinecolor": "white"
           },
           "yaxis": {
            "backgroundcolor": "#E5ECF6",
            "gridcolor": "white",
            "gridwidth": 2,
            "linecolor": "white",
            "showbackground": true,
            "ticks": "",
            "zerolinecolor": "white"
           },
           "zaxis": {
            "backgroundcolor": "#E5ECF6",
            "gridcolor": "white",
            "gridwidth": 2,
            "linecolor": "white",
            "showbackground": true,
            "ticks": "",
            "zerolinecolor": "white"
           }
          },
          "shapedefaults": {
           "line": {
            "color": "#2a3f5f"
           }
          },
          "ternary": {
           "aaxis": {
            "gridcolor": "white",
            "linecolor": "white",
            "ticks": ""
           },
           "baxis": {
            "gridcolor": "white",
            "linecolor": "white",
            "ticks": ""
           },
           "bgcolor": "#E5ECF6",
           "caxis": {
            "gridcolor": "white",
            "linecolor": "white",
            "ticks": ""
           }
          },
          "title": {
           "x": 0.05
          },
          "xaxis": {
           "automargin": true,
           "gridcolor": "white",
           "linecolor": "white",
           "ticks": "",
           "title": {
            "standoff": 15
           },
           "zerolinecolor": "white",
           "zerolinewidth": 2
          },
          "yaxis": {
           "automargin": true,
           "gridcolor": "white",
           "linecolor": "white",
           "ticks": "",
           "title": {
            "standoff": 15
           },
           "zerolinecolor": "white",
           "zerolinewidth": 2
          }
         }
        },
        "title": {
         "text": "<b>Race/Ethnicity Breakdown of U.S. Substance Use Treatment Admissions<b>",
         "x": 0.5
        },
        "xaxis": {
         "anchor": "y",
         "domain": [
          0,
          1
         ],
         "tickangle": -45,
         "title": {
          "text": "Substance"
         }
        },
        "yaxis": {
         "anchor": "x",
         "domain": [
          0,
          1
         ],
         "title": {
          "text": "% of National Treatment Admissions"
         }
        }
       }
      }
     },
     "metadata": {},
     "output_type": "display_data"
    }
   ],
   "source": [
    "import pandas as pd\n",
    "import plotly.express as px\n",
    "\n",
    "# Load raw data and assign column names\n",
    "df_raw = pd.read_csv(\"../../data/state_data/UNITED STATES.csv\", header=None)\n",
    "columns = [\n",
    "    \"Index\",\n",
    "    \"Group\",\n",
    "    \"All Substances\",\n",
    "    \"Alcohol Only\",\n",
    "    \"Alcohol with secondary drug\",\n",
    "    \"Heroin\",\n",
    "    \"Other opiates\",\n",
    "    \"Cocaine (smoked)\",\n",
    "    \"Cocaine (other route)\",\n",
    "    \"Marijuana\",\n",
    "    \"Amphetamines\",\n",
    "    \"Other stimulants\",\n",
    "    \"Tranquilizers\",\n",
    "    \"Sedatives\",\n",
    "    \"Hallucinogens\",\n",
    "    \"PCP\",\n",
    "    \"Inhalants\",\n",
    "    \"Other/Unknown\",\n",
    "]\n",
    "df_raw.columns = columns\n",
    "\n",
    "# Keep only desired racial and ethnic groups\n",
    "included_groups = [\n",
    "    \"White\",\n",
    "    \"Black or African-American\",\n",
    "    \"American Indian or Alaska Native\",\n",
    "    \"Asian or Native Hawaiian or Other Pacific Islander\",\n",
    "    \"Other\",\n",
    "    \"Unknown\",\n",
    "    \"Hispanic or Latino\",\n",
    "]\n",
    "\n",
    "# Filter and reshape\n",
    "filtered_df = df_raw[df_raw[\"Group\"].isin(included_groups)].copy()\n",
    "long_df = filtered_df.melt(\n",
    "    id_vars=[\"Group\"], var_name=\"Substance\", value_name=\"Percentage\"\n",
    ")\n",
    "long_df = long_df[long_df[\"Substance\"] != \"Index\"]\n",
    "long_df[\"Percentage\"] = pd.to_numeric(long_df[\"Percentage\"], errors=\"coerce\")\n",
    "\n",
    "# Create the bar chart\n",
    "fig = px.bar(\n",
    "    long_df,\n",
    "    x=\"Substance\",\n",
    "    y=\"Percentage\",\n",
    "    color=\"Group\",\n",
    "    barmode=\"group\",\n",
    "    title=\"<b>Race/Ethnicity Breakdown of U.S. Substance Use Treatment Admissions<b>\",\n",
    "    labels={\"Percentage\": \"% of National Treatment Admissions\"},\n",
    ")\n",
    "\n",
    "fig.update_layout(\n",
    "    xaxis_tickangle=-45,\n",
    "    title_x=0.5,\n",
    "    plot_bgcolor=\"#f9f9f9\",\n",
    "    legend=dict(\n",
    "        x=1,\n",
    "        xanchor=\"left\",\n",
    "        y=1,\n",
    "        yanchor=\"top\",\n",
    "        bgcolor=\"rgba(255,255,255,0)\",  # transparent background\n",
    "        bordercolor=\"rgba(0,0,0,0)\",  # no border\n",
    "        font=dict(size=10),  # shrink font a little if needed\n",
    "    ),\n",
    ")\n",
    "fig.write_html(\"../../outputs/race.html\", include_plotlyjs=\"cdn\")\n",
    "fig.show()"
   ]
  }
 ],
 "metadata": {
  "kernelspec": {
   "display_name": "base",
   "language": "python",
   "name": "python3"
  },
  "language_info": {
   "codemirror_mode": {
    "name": "ipython",
    "version": 3
   },
   "file_extension": ".py",
   "mimetype": "text/x-python",
   "name": "python",
   "nbconvert_exporter": "python",
   "pygments_lexer": "ipython3",
   "version": "3.12.7"
  }
 },
 "nbformat": 4,
 "nbformat_minor": 2
}
